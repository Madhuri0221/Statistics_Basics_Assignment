{
  "nbformat": 4,
  "nbformat_minor": 0,
  "metadata": {
    "colab": {
      "provenance": []
    },
    "kernelspec": {
      "name": "python3",
      "display_name": "Python 3"
    },
    "language_info": {
      "name": "python"
    }
  },
  "cells": [
    {
      "cell_type": "markdown",
      "source": [
        "Statistics Basics - Theory"
      ],
      "metadata": {
        "id": "UKNuZ46e0a8w"
      }
    },
    {
      "cell_type": "code",
      "source": [
        "# 1) What is statistics, and why is it important?\n",
        "\n",
        "\"\"\"\n",
        "Statistics: we collect, organize, analyze and re-access the data\n",
        "\n",
        "Importance:\n",
        "Decisions: Guides choices in business, science, and policy.\n",
        "Patterns: Reveals trends and predictions (e.g., weather, stocks).\n",
        "Truth: Separates facts from biases using evidence.\n",
        "\n",
        "\"\"\""
      ],
      "metadata": {
        "id": "DGgMidkd0dmH"
      },
      "execution_count": null,
      "outputs": []
    },
    {
      "cell_type": "code",
      "source": [
        "# 2) What are the two main types of statistics?\n",
        "\n",
        "\"\"\"\n",
        "Descriptive and Inferential statistics\n",
        "\n",
        "\"\"\""
      ],
      "metadata": {
        "id": "HjfY6z1-1NWo"
      },
      "execution_count": null,
      "outputs": []
    },
    {
      "cell_type": "code",
      "source": [
        "# 3) What are descriptive statistics?\n",
        "\n",
        "\"\"\"\n",
        "We perform or apply the statistics to the entire population\n",
        "For the data which is countable we use descriptive statistics\n",
        "its like .describe()\n",
        "where we can find the min,25%,50%,75%,max, count etc\n",
        "eg: avg height of students in a class, no.of benz cars in the showroom\n",
        "using this we can:\n",
        "1) measure the central tendency (mean, median, mode)\n",
        "2) measure the dispersion (range, percentage, percentile, quartile, standard deviation,\n",
        "variacne, covariance, correlation)\n",
        "3) measure the symmetricity (skewness, kurtosis)\n",
        "\n",
        "\"\"\""
      ],
      "metadata": {
        "id": "R4KDHWn21VUv"
      },
      "execution_count": null,
      "outputs": []
    },
    {
      "cell_type": "code",
      "source": [
        "# 4) What is inferential statistics?\n",
        "\n",
        "\"\"\"\n",
        "We perform or apply the statistics to the sample taken from an entire population\n",
        "which is called as sampling and we apply the same result to the entire data\n",
        "We use this type of stats for an uncountable data\n",
        "eg: count of stars, count the trees of a jungle, entire population's avg weight etc\n",
        "\n",
        "\"\"\""
      ],
      "metadata": {
        "id": "uEUfVj4418I4"
      },
      "execution_count": null,
      "outputs": []
    },
    {
      "cell_type": "code",
      "source": [
        "# 5) What is sampling in statistics?\n",
        "\n",
        "\"\"\"\n",
        "We use sampling when we deal with inferential data\n",
        "the process of taking sample from the uncountable data is called sampling\n",
        "taking sample is random\n",
        "\n",
        "\"\"\""
      ],
      "metadata": {
        "id": "YT22qoOL29sY"
      },
      "execution_count": null,
      "outputs": []
    },
    {
      "cell_type": "code",
      "source": [
        "# 6) What are the different types of sampling methods?\n",
        "\n",
        "\"\"\"\n",
        "In inferential stats, there are 4 types of sampling methods:\n",
        "\n",
        "1) Simple Random Sampling (SRS)\n",
        "2) Stratified Sampling\n",
        "3) Clustered Sampling\n",
        "4) Systematic Sampling\n",
        "\n",
        "SRS: Lets consider a population of 240 from 3 states\n",
        "where bihar and UP have huge population and mizoram has less population\n",
        "the chance of getting randomly selected into the sampling for each and every\n",
        "individual is same\n",
        "ie., 1/240\n",
        "but there is a disadvantage using SRS, there might be a possibility that the\n",
        "people from mizoram might not be selected into the sample because of less\n",
        "population\n",
        "ie., the SRS doesnt provide equal representation\n",
        "to avoid this disadvantage we have Stratified sampling\n",
        "\n",
        "Stratified Sampling: considering the same example as above\n",
        "UP has - 100 people\n",
        "Bihar has - 100 people\n",
        "Mizoram has - 40 people\n",
        "lets say we want a sample of 40 people\n",
        "stratified sample first divides states into 3 subgroups\n",
        "sampling is done for every subgroup ie., equal representation\n",
        "and each individual has the equal chance to get randomly selected into the sample\n",
        "\n",
        "UP = (100/240)*24 = 10 PEOPLE\n",
        "Bihar = (100/240)*24 = 10 PEOPLE\n",
        "Mizoram = (40/240)*24 = 4 PEOPLE\n",
        "\n",
        "Sample of 24 people are randomly selected from all the 3 states\n",
        "\n",
        "Clustered Sampling: Here the entire population is divided into clusters/groups\n",
        "only few clusters will be selected not all and few or all individuals from those clusters\n",
        "will be taken randomly into sample\n",
        "this lacks in equal representation and equal chance for every individual\n",
        "\n",
        "considering above example:\n",
        "lets say we want a sample of 40 people\n",
        "any of the states can be selected or all states can be selected\n",
        "and all those 40 people can be selected from all 3 states for from 2 states or from 1\n",
        "state\n",
        "\n",
        "Systematic Sampling: here the sample is not taken randomly\n",
        "its taken selectively\n",
        "\n",
        "eg: pull the data of the people born in 1990, how many people are there of age 70 etc\n",
        "\n",
        "because of the disadvantages of srs, clustered and systematic we might not be able to\n",
        "draw the patterns\n",
        "\n",
        "so by using stratified sampleing its possible to draw patterns\n",
        "\n",
        "\"\"\"\n",
        "\n"
      ],
      "metadata": {
        "id": "qKQiifkK2QQD"
      },
      "execution_count": null,
      "outputs": []
    },
    {
      "cell_type": "code",
      "source": [
        "# 7) What is the difference between random and non-random sampling?\n",
        "\n",
        "\"\"\"\n",
        "Random sampling : individuals/items are randomly picked, this doesnt have any\n",
        "conditional based selection and each individual has equal chance\n",
        "\n",
        "Non-random sampling: individuals/items are randomly picked, this have any\n",
        "conditional based selection and each individual doesnot have equal chance\n",
        "the are picked based on conditions or specific criteria or by convenience\n",
        "\n",
        "\"\"\""
      ],
      "metadata": {
        "id": "-_R4xDyr6Zj-"
      },
      "execution_count": null,
      "outputs": []
    },
    {
      "cell_type": "code",
      "source": [
        "# 8) Define and give examples of qualitative and quantitative data\n",
        "\n",
        "\"\"\"\n",
        "Qualitative: The qualitative data is the categorical data, it defines the\n",
        "character or behaviour of the data\n",
        "we cannot perform arthematic operations on this kind of data\n",
        "we can just compare the natural comparisions like\n",
        "good<better<best\n",
        "The color of a car (e.g., \"red,\" \"blue\")\n",
        "\n",
        "Quantitative: The quantitative data is the numerical data\n",
        "we can perform the arthematic and statistics upon this\n",
        "eg: finding the avg height of students in a class\n",
        "\n",
        "\"\"\""
      ],
      "metadata": {
        "id": "jnSKXiiM6c5W"
      },
      "execution_count": null,
      "outputs": []
    },
    {
      "cell_type": "code",
      "source": [
        "# 9)  What are the different types of data in statistics?\n",
        "\n",
        "\"\"\"\n",
        "We have 2 types of data in stats: Numerical (Quantitative) and Categorical (Qualitative)\n",
        "\n",
        "Categorical: The Categorical data is the Qualitative data, it defines the\n",
        "character or behaviour of the data\n",
        "we cannot perform arthematic operations on this kind of data\n",
        "we can just compare the natural comparisions like\n",
        "good<better<best\n",
        "The color of a car (e.g., \"red,\" \"blue\")\n",
        "\n",
        "Numerical: The Numerical data is the Quantitative data\n",
        "we can perform the arthematic and statistics upon this\n",
        "eg: finding the avg height of students in a class\n",
        "\n",
        "\"\"\"\n"
      ],
      "metadata": {
        "id": "mH0VyMqv8rWk"
      },
      "execution_count": null,
      "outputs": []
    },
    {
      "cell_type": "code",
      "source": [
        "# 10) Explain nominal, ordinal, interval, and ratio levels of measurement\n",
        "\n",
        "\"\"\"\n",
        "These are the level of measurements\n",
        "\n",
        "Nominal, Ordinal come under Categorical data type\n",
        "Ratio and Interval come under Numerical data type\n",
        "\n",
        "1) Nominal - Nominal means NO ORDER ie., we cannot compare the data of column\n",
        "with the data of the same column\n",
        "we cannot perform any arthematic or stats on this kind of data\n",
        "eg: a column gender has 2 values M,F\n",
        "we cannot compare male and female, they both are independent\n",
        "\n",
        "2) Ordinal - Ordinal means ORDERED data ie., we can compare the data of the\n",
        "column with the data of the same column\n",
        "comparision involves only natural comparision\n",
        "we cannot perform any arthematic or stats\n",
        "comaprision are to be natural comparision and not personal comparisions\n",
        "ie.,\n",
        "good<better<best\n",
        "The color of a car (e.g., \"red,\" \"blue\")\n",
        "\n",
        "3) Ratio - the data on which we want to perform arthematic operations\n",
        "or stats shud be starting from 0 ie., age - this starts from 0 years, weight - starts\n",
        "from 0\n",
        "the ratio of the datapoints cannot be negative, eg: even the temperature has 0 as its\n",
        "value, it also holds the negative values, so temperature doesnt come under ratio\n",
        "the differences ie., the arthematic operations and stats and ratios are meaningful\n",
        "\n",
        "4) Interval - there is no need of starting from zero\n",
        "negative values are accepted\n",
        "ratios are not possible\n",
        "can perform arthematic ops, stats\n",
        "\n",
        "\"\"\""
      ],
      "metadata": {
        "id": "ag6_qrGn9GSl"
      },
      "execution_count": null,
      "outputs": []
    },
    {
      "cell_type": "code",
      "source": [
        "# 11) What is the measure of central tendency?\n",
        "\n",
        "\"\"\"\n",
        "They help in understanding the distribution and characteristics of data\n",
        "summarizes the entire dataset and return a single value\n",
        "There are 3 types of central tendencies\n",
        "they define the MEAN, MEDIAN, MODE of the data\n",
        "Mean - gives the arthematic mid point, this is effected by outliers\n",
        "Median - gives the physical mid point\n",
        "Mode - gives the most frequent data\n",
        "\n",
        "\"\"\""
      ],
      "metadata": {
        "id": "_Nr6pG-W_M03"
      },
      "execution_count": null,
      "outputs": []
    },
    {
      "cell_type": "code",
      "source": [
        "# 12)  Define mean, median, and mode\n",
        "\n",
        "\"\"\"\n",
        "These are the measures of central tendency\n",
        "summarizes the entire dataset and return a single value\n",
        "Mean - gives the arthematic mid point, this is effected by outliers\n",
        "Median - gives the physical mid point\n",
        "Mode - gives the most frequent data\n",
        "\n",
        "eg:\n",
        "\n",
        "import numpy as np\n",
        "import statistics as st\n",
        "from scipy import stats\n",
        "\n",
        "dataset = [1,2,2,2,3,3,4,4,5,5,5,6]\n",
        "_mean = np.mean(dataset)\n",
        "_median = np.median(dataset)\n",
        "_mode = st.multimode(dataset)\n",
        "_mode1 = st.mode(dataset)\n",
        "_mode2 = stats.mode(dataset)\n",
        "\n",
        "print(\"Mean:\",_mean)\n",
        "print(\"Median:\",_median)\n",
        "print(\"Mode:\",_mode)\n",
        "print(\"Mode1:\",_mode1)\n",
        "print(\"Mode2:\",_mode2)\n",
        "\n",
        "output:\n",
        "\n",
        "Mean: 3.5\n",
        "Median: 3.5\n",
        "Mode: [2, 5]\n",
        "Mode1: 2\n",
        "Mode2: ModeResult(mode=2, count=3)\n",
        "\n",
        "\"\"\"\n"
      ],
      "metadata": {
        "id": "WwLpEUFG_Qpf"
      },
      "execution_count": null,
      "outputs": []
    },
    {
      "cell_type": "code",
      "source": [
        "# 13) What is the significance of the measure of central tendency?\n",
        "\n",
        "\"\"\"\n",
        "Measures of central tendency are significant because they provide a single,\n",
        "representative value that summarizes an entire dataset. This allows for a quick\n",
        "understanding of the \"typical\" value within the data.\n",
        "They are crucial for identifying patterns, comparing different datasets, and\n",
        "making informed decisions based on data analysis. Essentially, they condense\n",
        "complex information into easily digestible insights.\n",
        "\n",
        "\"\"\"\n"
      ],
      "metadata": {
        "id": "YnC9f6DsC39l"
      },
      "execution_count": null,
      "outputs": []
    },
    {
      "cell_type": "code",
      "source": [
        "# 14) What is variance, and how is it calculated?\n",
        "\n",
        "\"\"\"\n",
        "Variance: Variance gives the spread of the data ie., the data distribution.\n",
        "By using the histogram we can visualize the spread.\n",
        "the data is spread in form of datapoints\n",
        "\n",
        "formula = (sigma)^2 = i=0(sigma)n (x-u)^2/n for population\n",
        "          i=0(sigma)n (x-x(bar))^2/n-1 for sample\n",
        "\n",
        "u = mean of population\n",
        "x(bar) = mean of sample\n",
        "\n",
        "so variance is the squares of differences of datapoints and the mean\n",
        "\n",
        "using python: np.var(dataset) = gives variance of population\n",
        "              np.var(dataset,ddof=1) = gives variance of sample\n",
        "\n",
        "variance always gives the squared dimensions, if the dataset is in tens it\n",
        "gives hundreds as output ie., mostly deviated from mean\n",
        "\n",
        "\"\"\""
      ],
      "metadata": {
        "id": "5ubIsucDC9Tn"
      },
      "execution_count": null,
      "outputs": []
    },
    {
      "cell_type": "code",
      "source": [
        "# 15) What is standard deviation, and why is it important?\n",
        "\n",
        "\"\"\"\n",
        "Standard Deviation: This measures the data distribution\n",
        "\n",
        "1st SD covers approximately 68%\n",
        "2nd SD covers approximately 95%\n",
        "3rd SD covers approximately 99.7%\n",
        "\n",
        "approximately normally distributed (bell-shaped curve)\n",
        "\n",
        "from these SDs we can know what all datapoints come under each\n",
        "SD\n",
        "\n",
        "the square root of variance gives standard deviation\n",
        "\n",
        "ie., the dimensions of the dataset remains same\n",
        "\n",
        "\"\"\""
      ],
      "metadata": {
        "id": "s3DdtVlQGMxd"
      },
      "execution_count": null,
      "outputs": []
    },
    {
      "cell_type": "code",
      "source": [
        "# 16)  Define and explain the term range in statistics\n",
        "\n",
        "\"\"\"\n",
        "Range: Range gives the difference of max and min values\n",
        "this is greatly effected by outliers\n",
        "l=[1,2,3]\n",
        "range = max(l) - min(l) = 3-1 = 2\n",
        "l1=[2,3,1000]\n",
        "1000 - 2 = 998\n",
        "sp there is a huge change in the range as we have an outlier that is 1000\n",
        "\n",
        "\"\"\""
      ],
      "metadata": {
        "id": "4k2OafTybIgr"
      },
      "execution_count": null,
      "outputs": []
    },
    {
      "cell_type": "code",
      "source": [
        "#  17) What is the difference between variance and standard deviation?\n",
        "\n",
        "\"\"\"\n",
        "Variance = variance lets us know the spread of data ie., data distribution\n",
        "Standard deviation = this measures the spread of data\n",
        "we have 3 STDs\n",
        "\n",
        "1st SD covers approximately 68%\n",
        "2nd SD covers approximately 95%\n",
        "3rd SD covers approximately 99.7%\n",
        "\n",
        "approximately normally distributed (bell-shaped curve)\n",
        "\n",
        "from these SDs we can know what all datapoints come under each\n",
        "SD\n",
        "\n",
        "the square root of variance gives standard deviation\n",
        "\n",
        "\"\"\"\n"
      ],
      "metadata": {
        "id": "DPPDNXstbrBp"
      },
      "execution_count": null,
      "outputs": []
    },
    {
      "cell_type": "code",
      "source": [
        "# 18) What is skewness in a dataset?\n",
        "\n",
        "\"\"\"\n",
        "Skewness: Skewness let us know where the data is accumulated/concentrated\n",
        "\n",
        "\"\"\""
      ],
      "metadata": {
        "id": "q785-50_d6JJ"
      },
      "execution_count": null,
      "outputs": []
    },
    {
      "cell_type": "code",
      "source": [
        "# 19) What does it mean if a dataset is positively or negatively skewed\n",
        "\n",
        "\"\"\"\n",
        "if the distribution looks like bell-shaped - then the data is not skewed and\n",
        "is symmetric - mean = median = mode\n",
        "\n",
        "if the distribution is towards right, then more amount of data is on right\n",
        "and this is called as positively skewed ie., we can see the tail towards right\n",
        "mean > median > mode\n",
        "\n",
        "\n",
        "if the distribution is towards left, then more amount of data is on left\n",
        "and this is called as negatively skewed ie., we can see the tail towards left\n",
        "mean < median < mode\n",
        "\n",
        "the skewness is effected by outliers\n",
        "if we have a +ve outlier - positively skewed\n",
        "if we have a -ve outlier - negatively skewed\n",
        "\n",
        "\"\"\"\n"
      ],
      "metadata": {
        "id": "rRC10-JMe7Ho"
      },
      "execution_count": null,
      "outputs": []
    },
    {
      "cell_type": "code",
      "source": [
        "# 20) Define and explain kurtosis\n",
        "\n",
        "\"\"\"\n",
        "Kurtosis is a statistical measure that describes the \"tailedness\" of a distribution's\n",
        "probability curve. It indicates how much data is concentrated in the tails (extreme values)\n",
        "versus the center (peak) of the distribution, compared to a normal distribution.\n",
        "High kurtosis means more extreme outliers and heavier tails,\n",
        "while low kurtosis suggests fewer outliers and lighter tails.\n",
        "It doesn't primarily measure the \"peakedness\" of the distribution,\n",
        "despite a common misconception; it's about the probability of extreme values.\n",
        "\n",
        "\"\"\""
      ],
      "metadata": {
        "id": "TO9Atme2f08Y"
      },
      "execution_count": null,
      "outputs": []
    },
    {
      "cell_type": "code",
      "source": [
        "# 21) What is the purpose of covariance?\n",
        "\n",
        "\"\"\"\n",
        "Covariance - this determines the directional relationship between 2 random variables\n",
        "\n",
        "1) direction of relationship: if the 2 variables move in same direction then it is direct rlationship if\n",
        "they move in opposite direction then they are indirectly related\n",
        "\n",
        "2) joint variability: It essentially measures how much two variables \"vary together\"\n",
        "from their respective means.\n",
        "\n",
        "\"\"\""
      ],
      "metadata": {
        "id": "MxEYxB--gdL4"
      },
      "execution_count": null,
      "outputs": []
    },
    {
      "cell_type": "code",
      "source": [
        "# 22) What does correlation measure in statistics?\n",
        "\n",
        "\"\"\"\n",
        "this lets us know the strength and direction of the linear relationship\n",
        "btwn 2 variables. It quantifies how consistently two variables move together,\n",
        "either in the same direction (positive correlation) or opposite directions (negative correlation).\n",
        "The correlation coefficient ranges from -1 (perfect negative correlation)\n",
        "to +1 (perfect positive correlation), with 0 indicating no linear relationship.\n",
        "\n",
        "\"\"\""
      ],
      "metadata": {
        "id": "4T6ewxDFytDB"
      },
      "execution_count": null,
      "outputs": []
    },
    {
      "cell_type": "code",
      "source": [
        "# 23) What is the difference between covariance and correlation?\n",
        "\n",
        "\"\"\"\n",
        "The key difference lies in standardization: covariance measures the direction\n",
        "and unscaled joint variability of two variables, so its value depends on their units.\n",
        "Correlation, on the other hand, is a standardized version of covariance,\n",
        "providing both the direction and strength of the linear relationship, and always\n",
        "ranges from -1 to +1, making it unit-free and comparable across different datasets.\n",
        "\n",
        "\"\"\""
      ],
      "metadata": {
        "id": "gOtn0y0R_MmD"
      },
      "execution_count": null,
      "outputs": []
    },
    {
      "cell_type": "code",
      "source": [
        "# 24)  What are some real-world applications of statistics?\n",
        "\n",
        "\"\"\"\n",
        "Healthcare and Medical Research\n",
        "Business and Finance\n",
        "Government and Public Policy\n",
        "Weather Forecasting\n",
        "Sports Analytics\n",
        "Education\n",
        "Quality Control and Manufacturing\n",
        "Environmental Science\n",
        "\n",
        "\"\"\""
      ],
      "metadata": {
        "id": "o0l34YOS_lZy"
      },
      "execution_count": null,
      "outputs": []
    },
    {
      "cell_type": "markdown",
      "source": [
        "Statistics Basics - Practical"
      ],
      "metadata": {
        "id": "Uuwm8TVBAGia"
      }
    },
    {
      "cell_type": "code",
      "source": [
        "# 1) How do you calculate the mean, median, and mode of a dataset\n",
        "\n",
        "import numpy as np\n",
        "import statistics as st\n",
        "from scipy import stats\n",
        "\n",
        "dataset = [1,2,2,2,3,3,4,4,5,5,5,6]\n",
        "_mean = np.mean(dataset)\n",
        "_median = np.median(dataset)\n",
        "_mode = st.multimode(dataset)\n",
        "_mode1 = st.mode(dataset)\n",
        "_mode2 = stats.mode(dataset)\n",
        "\n",
        "print(\"Mean:\",_mean)\n",
        "print(\"Median:\",_median)\n",
        "print(\"Multi_Mode:\",_mode)\n",
        "print(\"Mode:\",_mode1)\n",
        "print(\"Mode_using_scipy:\",_mode2)"
      ],
      "metadata": {
        "colab": {
          "base_uri": "https://localhost:8080/"
        },
        "id": "STgqfYZ7AJVC",
        "outputId": "33c4473b-2be0-4578-d228-2ed5a0395323"
      },
      "execution_count": null,
      "outputs": [
        {
          "output_type": "stream",
          "name": "stdout",
          "text": [
            "Mean: 3.5\n",
            "Median: 3.5\n",
            "Multi_Mode: [2, 5]\n",
            "Mode: 2\n",
            "Mode_using_scipy: ModeResult(mode=np.int64(2), count=np.int64(3))\n"
          ]
        }
      ]
    },
    {
      "cell_type": "code",
      "source": [
        "# 2) Write a Python program to compute the variance and standard deviation of a dataset\n",
        "\n",
        "import numpy as np\n",
        "dataset = [1,2,2,2,3,3,4,4,5,5,5,6]\n",
        "v1=np.var(dataset)\n",
        "print(f\"variance of population: {v1}\")\n",
        "v2=np.var(dataset,ddof=1)\n",
        "print(f\"variance of sample: {v2}\")\n",
        "s1=np.std(dataset)\n",
        "print(f\"standard deviation of population: {s1}\")\n",
        "s2=np.std(dataset,ddof=1)\n",
        "print(f\"standard deviation of sample: {s2}\")\n"
      ],
      "metadata": {
        "colab": {
          "base_uri": "https://localhost:8080/"
        },
        "id": "4vKe0Sh3Z1Q3",
        "outputId": "46a47d20-080f-4170-dd51-683cddd7c52e"
      },
      "execution_count": null,
      "outputs": [
        {
          "output_type": "stream",
          "name": "stdout",
          "text": [
            "variance of population: 2.25\n",
            "variance of sample: 2.4545454545454546\n",
            "standard deviation of population: 1.5\n",
            "standard deviation of sample: 1.5666989036012806\n"
          ]
        }
      ]
    },
    {
      "cell_type": "code",
      "source": [
        "# 3) Create a dataset and classify it into nominal, ordinal, interval, and ratio types\n",
        "\n",
        "import seaborn as sns\n",
        "import pandas as pd\n",
        "# sns.get_dataset_names()\n",
        "df = sns.load_dataset(\"titanic\")\n",
        "print(df)\n",
        "df.dtypes\n",
        "\n",
        "\"\"\"\n",
        "survived: nominal\n",
        "pclass: ordinal\n",
        "sex: nominal\n",
        "age: ratio\n",
        "sibsp: ratio\n",
        "parch: ratio\n",
        "fare: ratio\n",
        "embarked: nominal\n",
        "class: ordinal\n",
        "who: nominal\n",
        "adult_male: boolean\n",
        "deck: ordinal\n",
        "embark_town: nominal\n",
        "alive: nominal\n",
        "alone: boolean\n",
        "\n",
        "\"\"\""
      ],
      "metadata": {
        "colab": {
          "base_uri": "https://localhost:8080/",
          "height": 1000
        },
        "id": "K0MmmGPGbLQ9",
        "outputId": "69681586-d763-479f-f4a5-405caa012cc6"
      },
      "execution_count": null,
      "outputs": [
        {
          "output_type": "stream",
          "name": "stdout",
          "text": [
            "     survived  pclass     sex   age  sibsp  parch     fare embarked   class  \\\n",
            "0           0       3    male  22.0      1      0   7.2500        S   Third   \n",
            "1           1       1  female  38.0      1      0  71.2833        C   First   \n",
            "2           1       3  female  26.0      0      0   7.9250        S   Third   \n",
            "3           1       1  female  35.0      1      0  53.1000        S   First   \n",
            "4           0       3    male  35.0      0      0   8.0500        S   Third   \n",
            "..        ...     ...     ...   ...    ...    ...      ...      ...     ...   \n",
            "886         0       2    male  27.0      0      0  13.0000        S  Second   \n",
            "887         1       1  female  19.0      0      0  30.0000        S   First   \n",
            "888         0       3  female   NaN      1      2  23.4500        S   Third   \n",
            "889         1       1    male  26.0      0      0  30.0000        C   First   \n",
            "890         0       3    male  32.0      0      0   7.7500        Q   Third   \n",
            "\n",
            "       who  adult_male deck  embark_town alive  alone  \n",
            "0      man        True  NaN  Southampton    no  False  \n",
            "1    woman       False    C    Cherbourg   yes  False  \n",
            "2    woman       False  NaN  Southampton   yes   True  \n",
            "3    woman       False    C  Southampton   yes  False  \n",
            "4      man        True  NaN  Southampton    no   True  \n",
            "..     ...         ...  ...          ...   ...    ...  \n",
            "886    man        True  NaN  Southampton    no   True  \n",
            "887  woman       False    B  Southampton   yes   True  \n",
            "888  woman       False  NaN  Southampton    no  False  \n",
            "889    man        True    C    Cherbourg   yes   True  \n",
            "890    man        True  NaN   Queenstown    no   True  \n",
            "\n",
            "[891 rows x 15 columns]\n"
          ]
        },
        {
          "output_type": "execute_result",
          "data": {
            "text/plain": [
              "survived          int64\n",
              "pclass            int64\n",
              "sex              object\n",
              "age             float64\n",
              "sibsp             int64\n",
              "parch             int64\n",
              "fare            float64\n",
              "embarked         object\n",
              "class          category\n",
              "who              object\n",
              "adult_male         bool\n",
              "deck           category\n",
              "embark_town      object\n",
              "alive            object\n",
              "alone              bool\n",
              "dtype: object"
            ],
            "text/html": [
              "<div>\n",
              "<style scoped>\n",
              "    .dataframe tbody tr th:only-of-type {\n",
              "        vertical-align: middle;\n",
              "    }\n",
              "\n",
              "    .dataframe tbody tr th {\n",
              "        vertical-align: top;\n",
              "    }\n",
              "\n",
              "    .dataframe thead th {\n",
              "        text-align: right;\n",
              "    }\n",
              "</style>\n",
              "<table border=\"1\" class=\"dataframe\">\n",
              "  <thead>\n",
              "    <tr style=\"text-align: right;\">\n",
              "      <th></th>\n",
              "      <th>0</th>\n",
              "    </tr>\n",
              "  </thead>\n",
              "  <tbody>\n",
              "    <tr>\n",
              "      <th>survived</th>\n",
              "      <td>int64</td>\n",
              "    </tr>\n",
              "    <tr>\n",
              "      <th>pclass</th>\n",
              "      <td>int64</td>\n",
              "    </tr>\n",
              "    <tr>\n",
              "      <th>sex</th>\n",
              "      <td>object</td>\n",
              "    </tr>\n",
              "    <tr>\n",
              "      <th>age</th>\n",
              "      <td>float64</td>\n",
              "    </tr>\n",
              "    <tr>\n",
              "      <th>sibsp</th>\n",
              "      <td>int64</td>\n",
              "    </tr>\n",
              "    <tr>\n",
              "      <th>parch</th>\n",
              "      <td>int64</td>\n",
              "    </tr>\n",
              "    <tr>\n",
              "      <th>fare</th>\n",
              "      <td>float64</td>\n",
              "    </tr>\n",
              "    <tr>\n",
              "      <th>embarked</th>\n",
              "      <td>object</td>\n",
              "    </tr>\n",
              "    <tr>\n",
              "      <th>class</th>\n",
              "      <td>category</td>\n",
              "    </tr>\n",
              "    <tr>\n",
              "      <th>who</th>\n",
              "      <td>object</td>\n",
              "    </tr>\n",
              "    <tr>\n",
              "      <th>adult_male</th>\n",
              "      <td>bool</td>\n",
              "    </tr>\n",
              "    <tr>\n",
              "      <th>deck</th>\n",
              "      <td>category</td>\n",
              "    </tr>\n",
              "    <tr>\n",
              "      <th>embark_town</th>\n",
              "      <td>object</td>\n",
              "    </tr>\n",
              "    <tr>\n",
              "      <th>alive</th>\n",
              "      <td>object</td>\n",
              "    </tr>\n",
              "    <tr>\n",
              "      <th>alone</th>\n",
              "      <td>bool</td>\n",
              "    </tr>\n",
              "  </tbody>\n",
              "</table>\n",
              "</div><br><label><b>dtype:</b> object</label>"
            ]
          },
          "metadata": {},
          "execution_count": 25
        }
      ]
    },
    {
      "cell_type": "code",
      "source": [
        "#  Starting with categorical/object data type\n",
        "\n",
        "\"\"\"\n",
        " 1) Sex: contains string values and less unique values, so we can go with\n",
        " category datatype, now comes if its ordered or unordered\n",
        " they are unordered, so this is \"NOMINAL\" categorical data\n",
        "\n",
        " ------------SEX - NOMINAL CATEGORY DATATYPE\n",
        "\n",
        " 2) embarked: first check how many and what unique values are there\n",
        "df[\"embarked\"].unique()\n",
        " only 4 unique values in 891 rows, so less unique values\n",
        " we can go with categoy datatype\n",
        " check if its ordered - its unordered\n",
        "\n",
        " -------------EMBARKED - NOMINAL CATEGORY DATATYPE\n",
        "\n",
        " 3) class:\n",
        "\n",
        "df[\"class\"].unique()\n",
        "it has less unique values, only 3 values in 891 rows\n",
        "so this comes under category datatype\n",
        "check if ordered or not\n",
        "seems to be ordered \"first\",\"second\",\"third\"\n",
        "so create an order\n",
        "\n",
        "class_order = [\"First\",\"Second\",\"Third\"]\n",
        "df[\"class\"] = pd.categorical(df[\"class\"],categories=class_order,ordered=True)\n",
        "\n",
        "--------------CLASS - ORDINAL CATEGORY DATATYPE\n",
        "\n",
        "4)  who: contains string values and less unique values, so we can go with\n",
        " category datatype, now comes if its ordered or unordered\n",
        " they are unordered, so this is \"NOMINAL\" categorical data\n",
        "\n",
        " --------------WHO - NOMINAL CATEGORY DATATYPE\n",
        "\n",
        " 5) deck\n",
        "\n",
        "df[\"deck\"].unique()\n",
        "\n",
        "----------------DECK - ORDINAL CATEGORY DATATYPE\n",
        "\n",
        "6) embark_town\n",
        "\n",
        "df[\"embark_town\"].unique()\n",
        "\n",
        "--------------EMBARK_TOWN - NOMINAL CATEGORY DATATYPE\n",
        "\n",
        "7) alive\n",
        "\n",
        "--------------ALIVE - NOMINAL CATEGORY DATATYPE\n",
        "\n",
        "8) adult_male  AND alone  are BOOLEAN\n",
        "\n",
        "9) pclass: ORDINAL\n",
        "\n",
        "df[\"pclass\"].value_counts()\n",
        "\n",
        "\"\"\"\n",
        "\n"
      ],
      "metadata": {
        "colab": {
          "base_uri": "https://localhost:8080/",
          "height": 209
        },
        "id": "-9znOaP3pgAl",
        "outputId": "fa1ca51d-e379-4d38-e2e9-404ce6d22325"
      },
      "execution_count": null,
      "outputs": [
        {
          "output_type": "execute_result",
          "data": {
            "text/plain": [
              "pclass\n",
              "3    491\n",
              "1    216\n",
              "2    184\n",
              "Name: count, dtype: int64"
            ],
            "text/html": [
              "<div>\n",
              "<style scoped>\n",
              "    .dataframe tbody tr th:only-of-type {\n",
              "        vertical-align: middle;\n",
              "    }\n",
              "\n",
              "    .dataframe tbody tr th {\n",
              "        vertical-align: top;\n",
              "    }\n",
              "\n",
              "    .dataframe thead th {\n",
              "        text-align: right;\n",
              "    }\n",
              "</style>\n",
              "<table border=\"1\" class=\"dataframe\">\n",
              "  <thead>\n",
              "    <tr style=\"text-align: right;\">\n",
              "      <th></th>\n",
              "      <th>count</th>\n",
              "    </tr>\n",
              "    <tr>\n",
              "      <th>pclass</th>\n",
              "      <th></th>\n",
              "    </tr>\n",
              "  </thead>\n",
              "  <tbody>\n",
              "    <tr>\n",
              "      <th>3</th>\n",
              "      <td>491</td>\n",
              "    </tr>\n",
              "    <tr>\n",
              "      <th>1</th>\n",
              "      <td>216</td>\n",
              "    </tr>\n",
              "    <tr>\n",
              "      <th>2</th>\n",
              "      <td>184</td>\n",
              "    </tr>\n",
              "  </tbody>\n",
              "</table>\n",
              "</div><br><label><b>dtype:</b> int64</label>"
            ]
          },
          "metadata": {},
          "execution_count": 36
        }
      ]
    },
    {
      "cell_type": "code",
      "source": [
        "# 4)  Implement sampling techniques like random sampling and stratified sampling\n",
        "\n",
        "import seaborn as sns\n",
        "import pandas as pd\n",
        "data = sns.load_dataset(\"tips\")\n",
        "print(data)\n",
        "df=pd.DataFrame(data)\n",
        "print(\"\")\n",
        "\n",
        "# SIMPLE RANDOM SAMPLING\n",
        "\n",
        "print(\"SIMPLE RANDOM SAMPLING\")\n",
        "print(\"\")\n",
        "srs = df.sample(n=5,random_state=42)\n",
        "print(srs)\n",
        "\n",
        "# STRATIFIED RANDOM SAMPLING\n",
        "\n",
        "print(\"\")\n",
        "print(\"STRATIFIED RANDOM SAMPLING\")\n",
        "print(\"\")\n",
        "stratified_sampling = df.groupby(\"time\",group_keys=True).apply(lambda x:x.sample(frac=0.1,random_state=42))\n",
        "print(stratified_sampling)"
      ],
      "metadata": {
        "colab": {
          "base_uri": "https://localhost:8080/"
        },
        "id": "-nF8sYn506FU",
        "outputId": "c7c602b4-650a-4b19-b8cb-9f2315e48c8c"
      },
      "execution_count": null,
      "outputs": [
        {
          "output_type": "stream",
          "name": "stdout",
          "text": [
            "     total_bill   tip     sex smoker   day    time  size\n",
            "0         16.99  1.01  Female     No   Sun  Dinner     2\n",
            "1         10.34  1.66    Male     No   Sun  Dinner     3\n",
            "2         21.01  3.50    Male     No   Sun  Dinner     3\n",
            "3         23.68  3.31    Male     No   Sun  Dinner     2\n",
            "4         24.59  3.61  Female     No   Sun  Dinner     4\n",
            "..          ...   ...     ...    ...   ...     ...   ...\n",
            "239       29.03  5.92    Male     No   Sat  Dinner     3\n",
            "240       27.18  2.00  Female    Yes   Sat  Dinner     2\n",
            "241       22.67  2.00    Male    Yes   Sat  Dinner     2\n",
            "242       17.82  1.75    Male     No   Sat  Dinner     2\n",
            "243       18.78  3.00  Female     No  Thur  Dinner     2\n",
            "\n",
            "[244 rows x 7 columns]\n",
            "\n",
            "SIMPLE RANDOM SAMPLING\n",
            "\n",
            "     total_bill   tip     sex smoker   day    time  size\n",
            "24        19.82  3.18    Male     No   Sat  Dinner     2\n",
            "6          8.77  2.00    Male     No   Sun  Dinner     2\n",
            "153       24.55  2.00    Male     No   Sun  Dinner     4\n",
            "211       25.89  5.16    Male    Yes   Sat  Dinner     4\n",
            "198       13.00  2.00  Female    Yes  Thur   Lunch     2\n",
            "\n",
            "STRATIFIED RANDOM SAMPLING\n",
            "\n",
            "            total_bill   tip     sex smoker   day    time  size\n",
            "time                                                           \n",
            "Lunch  191       19.81  4.19  Female    Yes  Thur   Lunch     2\n",
            "       120       11.69  2.31    Male     No  Thur   Lunch     2\n",
            "       81        16.66  3.40    Male     No  Thur   Lunch     2\n",
            "       86        13.03  2.00    Male     No  Thur   Lunch     2\n",
            "       132       11.17  1.50  Female     No  Thur   Lunch     2\n",
            "       145        8.35  1.50  Female     No  Thur   Lunch     2\n",
            "       203       16.40  2.50  Female    Yes  Thur   Lunch     2\n",
            "Dinner 19        20.65  3.35    Male     No   Sat  Dinner     3\n",
            "       45        18.29  3.00    Male     No   Sun  Dinner     2\n",
            "       185       20.69  5.00    Male     No   Sun  Dinner     5\n",
            "       30         9.55  1.45    Male     No   Sat  Dinner     2\n",
            "       67         3.07  1.00  Female    Yes   Sat  Dinner     1\n",
            "       16        10.33  1.67  Female     No   Sun  Dinner     3\n",
            "       165       24.52  3.48    Male     No   Sun  Dinner     3\n",
            "       240       27.18  2.00  Female    Yes   Sat  Dinner     2\n",
            "       155       29.85  5.14  Female     No   Sun  Dinner     5\n",
            "       186       20.90  3.50  Female    Yes   Sun  Dinner     3\n",
            "       24        19.82  3.18    Male     No   Sat  Dinner     2\n",
            "       228       13.28  2.72    Male     No   Sat  Dinner     2\n",
            "       41        17.46  2.54    Male     No   Sun  Dinner     2\n",
            "       164       17.51  3.00  Female    Yes   Sun  Dinner     2\n",
            "       15        21.58  3.92    Male     No   Sun  Dinner     2\n",
            "       157       25.00  3.75  Female     No   Sun  Dinner     4\n",
            "       159       16.49  2.00    Male     No   Sun  Dinner     4\n",
            "       95        40.17  4.73    Male    Yes   Fri  Dinner     4\n"
          ]
        },
        {
          "output_type": "stream",
          "name": "stderr",
          "text": [
            "<ipython-input-56-925665fcace9>:22: FutureWarning: The default of observed=False is deprecated and will be changed to True in a future version of pandas. Pass observed=False to retain current behavior or observed=True to adopt the future default and silence this warning.\n",
            "  stratified_sampling = df.groupby(\"time\",group_keys=True).apply(lambda x:x.sample(frac=0.1,random_state=42))\n",
            "<ipython-input-56-925665fcace9>:22: DeprecationWarning: DataFrameGroupBy.apply operated on the grouping columns. This behavior is deprecated, and in a future version of pandas the grouping columns will be excluded from the operation. Either pass `include_groups=False` to exclude the groupings or explicitly select the grouping columns after groupby to silence this warning.\n",
            "  stratified_sampling = df.groupby(\"time\",group_keys=True).apply(lambda x:x.sample(frac=0.1,random_state=42))\n"
          ]
        }
      ]
    },
    {
      "cell_type": "code",
      "source": [
        "# 5) Write a Python function to calculate the range of a dataset\n",
        "\n",
        "dataset = [1,2,2,2,3,3,4,4,5,5,5,6]\n",
        "range = max(dataset) - min(dataset)\n",
        "print(f\"Range is: {range}\")\n",
        "\n",
        "dataset1 = [1,2,2,2,3,3,4,4,5,5,5,997]\n",
        "range1 = max(dataset1) - min(dataset1)\n",
        "print(f\"Range when outlier is present: {range1}\")\n",
        "\n",
        "dataset2 = [1000,2,2,2,3,3,4,4,5,5,5,2]\n",
        "range2 = max(dataset2) - min(dataset2)\n",
        "print(f\"Range when outlier is present: {range2}\")\n",
        "\n",
        "print(\"Range is heavily effected by outliers\")\n"
      ],
      "metadata": {
        "colab": {
          "base_uri": "https://localhost:8080/"
        },
        "id": "hOvjmNvomyUf",
        "outputId": "50cf549f-8163-4615-bd75-0a4bbeadb841"
      },
      "execution_count": null,
      "outputs": [
        {
          "output_type": "stream",
          "name": "stdout",
          "text": [
            "Range is: 5\n",
            "Range when outlier is present: 996\n",
            "Range when outlier is present: 998\n",
            "Range is heavily effected by outliers\n"
          ]
        }
      ]
    },
    {
      "cell_type": "code",
      "source": [
        "# 6) Create a dataset and plot its histogram to visualize skewness\n",
        "\n",
        "import matplotlib.pyplot as plt\n",
        "import seaborn as sns\n",
        "import pandas as pd\n",
        "\n",
        "\n",
        "data = sns.load_dataset(\"tips\")\n",
        "print(data)\n",
        "df=pd.DataFrame(data)\n",
        "\n",
        "\n",
        "d=df[\"total_bill\"].skew()\n",
        "print(f\"Skewness: {d}\")\n",
        "\n",
        "plt.figure(figsize=(7,5))\n",
        "sns.histplot(df[\"total_bill\"])\n",
        "plt.title('Histogram of Positively Skewed Data (Tail to the Right)')\n",
        "plt.xlabel('Value')\n",
        "plt.ylabel('Frequency')\n",
        "plt.legend()\n",
        "plt.show()\n",
        "\n"
      ],
      "metadata": {
        "colab": {
          "base_uri": "https://localhost:8080/",
          "height": 801
        },
        "id": "lXgbA36Cdv93",
        "outputId": "e072a342-5b00-4bc2-f5b7-4be7ce4c0c60"
      },
      "execution_count": null,
      "outputs": [
        {
          "output_type": "stream",
          "name": "stdout",
          "text": [
            "     total_bill   tip     sex smoker   day    time  size\n",
            "0         16.99  1.01  Female     No   Sun  Dinner     2\n",
            "1         10.34  1.66    Male     No   Sun  Dinner     3\n",
            "2         21.01  3.50    Male     No   Sun  Dinner     3\n",
            "3         23.68  3.31    Male     No   Sun  Dinner     2\n",
            "4         24.59  3.61  Female     No   Sun  Dinner     4\n",
            "..          ...   ...     ...    ...   ...     ...   ...\n",
            "239       29.03  5.92    Male     No   Sat  Dinner     3\n",
            "240       27.18  2.00  Female    Yes   Sat  Dinner     2\n",
            "241       22.67  2.00    Male    Yes   Sat  Dinner     2\n",
            "242       17.82  1.75    Male     No   Sat  Dinner     2\n",
            "243       18.78  3.00  Female     No  Thur  Dinner     2\n",
            "\n",
            "[244 rows x 7 columns]\n",
            "Skewness: 1.1332130376158205\n"
          ]
        },
        {
          "output_type": "stream",
          "name": "stderr",
          "text": [
            "<ipython-input-65-0e818a497965>:21: UserWarning: No artists with labels found to put in legend.  Note that artists whose label start with an underscore are ignored when legend() is called with no argument.\n",
            "  plt.legend()\n"
          ]
        },
        {
          "output_type": "display_data",
          "data": {
            "text/plain": [
              "<Figure size 700x500 with 1 Axes>"
            ],
            "image/png": "[encoded data removed]"
          },
          "metadata": {}
        }
      ]
    },
    {
      "cell_type": "code",
      "source": [
        "# 7) Calculate skewness and kurtosis of a dataset using Python libraries\n",
        "\n",
        "import seaborn as sns\n",
        "import pandas as pd\n",
        "from scipy.stats import kurtosis\n",
        "d={\n",
        "     1:90,\n",
        "     2:89,\n",
        "     3:65,\n",
        "     4:1,\n",
        "     5:0\n",
        " }\n",
        "df=pd.DataFrame(list(d.items()),columns=['key','value'])\n",
        "print(df)\n",
        "print(\"\")\n",
        "s=df.skew()\n",
        "print(\"Skewness of dataset\")\n",
        "print(\"\")\n",
        "print(s)\n",
        "print(\"\")\n",
        "print(\"Kurtosis of dataset\")\n",
        "k=df.kurtosis()\n",
        "print(\"\")\n",
        "print(k)"
      ],
      "metadata": {
        "colab": {
          "base_uri": "https://localhost:8080/"
        },
        "id": "w5cD8rSunhv2",
        "outputId": "91e8a946-4d53-4df6-8c24-04055dbc0cac"
      },
      "execution_count": null,
      "outputs": [
        {
          "output_type": "stream",
          "name": "stdout",
          "text": [
            "   key  value\n",
            "0    1     90\n",
            "1    2     89\n",
            "2    3     65\n",
            "3    4      1\n",
            "4    5      0\n",
            "\n",
            "Skewness of dataset\n",
            "\n",
            "key      0.000000\n",
            "value   -0.406386\n",
            "dtype: float64\n",
            "\n",
            "Kurtosis of dataset\n",
            "\n",
            "key     -1.200000\n",
            "value   -3.134881\n",
            "dtype: float64\n"
          ]
        }
      ]
    },
    {
      "cell_type": "code",
      "source": [
        "# 8) Generate a dataset and demonstrate positive and negative skewness\n",
        "\n",
        "import numpy as np\n",
        "import matplotlib.pyplot as plt\n",
        "from scipy.stats import skew\n",
        "\n",
        "# Generate a positively skewed dataset (right-skewed)\n",
        "positive_skew_data = np.random.exponential(scale=2, size=1000)\n",
        "\n",
        "# Generate a negatively skewed dataset (left-skewed)\n",
        "negative_skew_data = np.random.exponential(scale=2, size=1000) * -1  # Flip values\n",
        "\n",
        "# Calculate skewness\n",
        "positive_skew_value = skew(positive_skew_data)\n",
        "negative_skew_value = skew(negative_skew_data)\n",
        "\n",
        "# Plot histograms\n",
        "fig, axs = plt.subplots(1, 2, figsize=(12, 5))\n",
        "\n",
        "axs[0].hist(positive_skew_data, bins=30, color='blue', alpha=0.7)\n",
        "axs[0].set_title(f\"Positive Skew (Skewness = {positive_skew_value:.2f})\")\n",
        "\n",
        "axs[1].hist(negative_skew_data, bins=30, color='red', alpha=0.7)\n",
        "axs[1].set_title(f\"Negative Skew (Skewness = {negative_skew_value:.2f})\")\n",
        "\n",
        "plt.show()\n"
      ],
      "metadata": {
        "colab": {
          "base_uri": "https://localhost:8080/",
          "height": 468
        },
        "id": "XIylVKUwl9af",
        "outputId": "11c347ca-947f-430d-85cc-87eab488781a"
      },
      "execution_count": null,
      "outputs": [
        {
          "output_type": "display_data",
          "data": {
            "text/plain": [
              "<Figure size 1200x500 with 2 Axes>"
            ],
            "image/png": "[encoded data removed]"
          },
          "metadata": {}
        }
      ]
    },
    {
      "cell_type": "code",
      "source": [
        "# 9) Write a Python script to calculate covariance between two datasets\n",
        "\n",
        "import numpy as np\n",
        "d1=[1,2,3,44,5,6]\n",
        "d2=[4,5,2,77,34,9]\n",
        "c=np.cov(d1,d2)\n",
        "print(c)\n",
        "cov_value = c[0, 1]\n",
        "print(\"\")\n",
        "print(f\"Covariance is : {cov_value}\")\n"
      ],
      "metadata": {
        "colab": {
          "base_uri": "https://localhost:8080/"
        },
        "id": "w7mVQMjhnEL1",
        "outputId": "0d54c99b-eedc-45d1-b20e-43abf5449338"
      },
      "execution_count": null,
      "outputs": [
        {
          "output_type": "stream",
          "name": "stdout",
          "text": [
            "[[278.16666667 460.03333333]\n",
            " [460.03333333 870.16666667]]\n",
            "\n",
            "Covariance is : 460.0333333333333\n"
          ]
        }
      ]
    },
    {
      "cell_type": "code",
      "source": [
        "# 10) Write a Python script to calculate the correlation coefficient between two datasets\n",
        "\n",
        "import numpy as np\n",
        "from scipy.stats import pearsonr\n",
        "d1=[1,2,3,44,5,6]\n",
        "d2=[4,5,2,77,34,9]\n",
        "co_efficient=pearsonr(d1,d2)\n",
        "print(f\"Co-efficient of variation is: {co_efficient}\")\n"
      ],
      "metadata": {
        "colab": {
          "base_uri": "https://localhost:8080/"
        },
        "id": "ijS8x9RGoNDS",
        "outputId": "66d745d3-f912-4dbc-d0ce-d31f8e5b691b"
      },
      "execution_count": null,
      "outputs": [
        {
          "output_type": "stream",
          "name": "stdout",
          "text": [
            "Co-efficient of variation is: PearsonRResult(statistic=np.float64(0.9350515115143659), pvalue=np.float64(0.006190472930433404))\n"
          ]
        }
      ]
    },
    {
      "cell_type": "code",
      "source": [
        "# 11) Create a scatter plot to visualize the relationship between two variables\n",
        "\n",
        "import numpy as np\n",
        "import seaborn as sns\n",
        "import matplotlib.pyplot as plt\n",
        "d1=np.random.rand(1,10)\n",
        "d2=np.random.rand(1,10)\n",
        "c=np.cov(d1,d2)\n",
        "print(c)\n",
        "cov_value = c[0, 1]\n",
        "print(\"\")\n",
        "print(f\"Covariance is : {cov_value}\")\n",
        "plt.figure(figsize=(5,5))\n",
        "plt.scatter(d1,d2)\n",
        "plt.title(\"Scatter plot: Relationship Between Two Variables\")\n",
        "plt.xlabel(\"d1 variables\")\n",
        "plt.ylabel(\"d2 variables\")\n",
        "plt.legend()\n",
        "plt.show()"
      ],
      "metadata": {
        "colab": {
          "base_uri": "https://localhost:8080/",
          "height": 598
        },
        "id": "1S-U7TZnIxqi",
        "outputId": "e82bfdf9-a7c9-4710-cf2d-27e8ea1d5ed7"
      },
      "execution_count": null,
      "outputs": [
        {
          "output_type": "stream",
          "name": "stdout",
          "text": [
            "[[0.05480024 0.01040244]\n",
            " [0.01040244 0.09234321]]\n",
            "\n",
            "Covariance is : 0.01040243567387644\n"
          ]
        },
        {
          "output_type": "stream",
          "name": "stderr",
          "text": [
            "<ipython-input-20-4b39c4b78c39>:18: UserWarning: No artists with labels found to put in legend.  Note that artists whose label start with an underscore are ignored when legend() is called with no argument.\n",
            "  plt.legend()\n"
          ]
        },
        {
          "output_type": "display_data",
          "data": {
            "text/plain": [
              "<Figure size 500x500 with 1 Axes>"
            ],
            "image/png": "[encoded data removed]"
          },
          "metadata": {}
        }
      ]
    },
    {
      "cell_type": "code",
      "source": [
        "# 12) Implement and compare simple random sampling and systematic sampling\n",
        "\n",
        "import pandas as pd\n",
        "import numpy as np\n",
        "import seaborn as sns\n",
        "\n",
        "data = sns.load_dataset(\"tips\")\n",
        "df=pd.DataFrame(data)\n",
        "print(df)\n",
        "print(\"\")\n",
        "print(\"Simple random sampling:\")\n",
        "print(\"\")\n",
        "srs=df.sample(n=5,random_state=42)\n",
        "print(srs)\n",
        "print(\"\")\n",
        "print(\"Stratified random sampling:\")\n",
        "print(\"\")\n",
        "std_sampling=df.groupby(\"sex\").apply(lambda x:x.sample(frac=0.1,random_state=42))\n",
        "print(std_sampling)\n",
        "print(\"\")\n",
        "print(\"Systematic sampling:\")\n",
        "print(\"\")\n",
        "k=10\n",
        "start = 3\n",
        "sys_sampling=df.iloc[start::k]\n",
        "print(\"\")\n",
        "print(sys_sampling)"
      ],
      "metadata": {
        "colab": {
          "base_uri": "https://localhost:8080/"
        },
        "id": "HTYGXiHbL3a3",
        "outputId": "aa2f491e-30ef-4f80-a2a4-1935d6b3d101"
      },
      "execution_count": null,
      "outputs": [
        {
          "output_type": "stream",
          "name": "stdout",
          "text": [
            "     total_bill   tip     sex smoker   day    time  size\n",
            "0         16.99  1.01  Female     No   Sun  Dinner     2\n",
            "1         10.34  1.66    Male     No   Sun  Dinner     3\n",
            "2         21.01  3.50    Male     No   Sun  Dinner     3\n",
            "3         23.68  3.31    Male     No   Sun  Dinner     2\n",
            "4         24.59  3.61  Female     No   Sun  Dinner     4\n",
            "..          ...   ...     ...    ...   ...     ...   ...\n",
            "239       29.03  5.92    Male     No   Sat  Dinner     3\n",
            "240       27.18  2.00  Female    Yes   Sat  Dinner     2\n",
            "241       22.67  2.00    Male    Yes   Sat  Dinner     2\n",
            "242       17.82  1.75    Male     No   Sat  Dinner     2\n",
            "243       18.78  3.00  Female     No  Thur  Dinner     2\n",
            "\n",
            "[244 rows x 7 columns]\n",
            "\n",
            "Simple random sampling:\n",
            "\n",
            "     total_bill   tip     sex smoker   day    time  size\n",
            "24        19.82  3.18    Male     No   Sat  Dinner     2\n",
            "6          8.77  2.00    Male     No   Sun  Dinner     2\n",
            "153       24.55  2.00    Male     No   Sun  Dinner     4\n",
            "211       25.89  5.16    Male    Yes   Sat  Dinner     4\n",
            "198       13.00  2.00  Female    Yes  Thur   Lunch     2\n",
            "\n",
            "Stratified random sampling:\n",
            "\n",
            "            total_bill   tip     sex smoker   day    time  size\n",
            "sex                                                            \n",
            "Male   194       16.58  4.00    Male    Yes  Thur   Lunch     2\n",
            "       60        20.29  3.21    Male    Yes   Sat  Dinner     2\n",
            "       207       38.73  3.00    Male    Yes   Sat  Dinner     4\n",
            "       216       28.15  3.00    Male    Yes   Sat  Dinner     5\n",
            "       175       32.90  3.11    Male    Yes   Sun  Dinner     2\n",
            "       41        17.46  2.54    Male     No   Sun  Dinner     2\n",
            "       152       17.26  2.74    Male     No   Sun  Dinner     3\n",
            "       154       19.77  2.00    Male     No   Sun  Dinner     4\n",
            "       151       13.13  2.00    Male     No   Sun  Dinner     2\n",
            "       217       11.59  1.50    Male    Yes   Sat  Dinner     2\n",
            "       27        12.69  2.00    Male     No   Sat  Dinner     2\n",
            "       77        27.20  4.00    Male     No  Thur   Lunch     4\n",
            "       23        39.42  7.58    Male     No   Sat  Dinner     4\n",
            "       95        40.17  4.73    Male    Yes   Fri  Dinner     4\n",
            "       35        24.06  3.60    Male     No   Sat  Dinner     3\n",
            "       42        13.94  3.06    Male     No   Sun  Dinner     2\n",
            "Female 214       28.17  6.50  Female    Yes   Sat  Dinner     3\n",
            "       0         16.99  1.01  Female     No   Sun  Dinner     2\n",
            "       100       11.35  2.50  Female    Yes   Fri  Dinner     2\n",
            "       85        34.83  5.17  Female     No  Thur   Lunch     4\n",
            "       51        10.29  2.60  Female     No   Sun  Dinner     2\n",
            "       191       19.81  4.19  Female    Yes  Thur   Lunch     2\n",
            "       33        20.69  2.45  Female     No   Sat  Dinner     4\n",
            "       72        26.86  3.14  Female    Yes   Sat  Dinner     2\n",
            "       16        10.33  1.67  Female     No   Sun  Dinner     3\n",
            "\n",
            "Systematic sampling:\n",
            "\n",
            "\n",
            "     total_bill   tip     sex smoker   day    time  size\n",
            "3         23.68  3.31    Male     No   Sun  Dinner     2\n",
            "13        18.43  3.00    Male     No   Sun  Dinner     4\n",
            "23        39.42  7.58    Male     No   Sat  Dinner     4\n",
            "33        20.69  2.45  Female     No   Sat  Dinner     4\n",
            "43         9.68  1.32    Male     No   Sun  Dinner     2\n",
            "53         9.94  1.56    Male     No   Sun  Dinner     2\n",
            "63        18.29  3.76    Male    Yes   Sat  Dinner     4\n",
            "73        25.28  5.00  Female    Yes   Sat  Dinner     2\n",
            "83        32.68  5.00    Male    Yes  Thur   Lunch     2\n",
            "93        16.32  4.30  Female    Yes   Fri  Dinner     2\n",
            "103       22.42  3.48  Female    Yes   Sat  Dinner     2\n",
            "113       23.95  2.55    Male     No   Sun  Dinner     2\n",
            "123       15.95  2.00    Male     No  Thur   Lunch     2\n",
            "133       12.26  2.00  Female     No  Thur   Lunch     2\n",
            "143       27.05  5.00  Female     No  Thur   Lunch     6\n",
            "153       24.55  2.00    Male     No   Sun  Dinner     4\n",
            "163       13.81  2.00    Male     No   Sun  Dinner     2\n",
            "173       31.85  3.18    Male    Yes   Sun  Dinner     2\n",
            "183       23.17  6.50    Male    Yes   Sun  Dinner     4\n",
            "193       15.48  2.02    Male    Yes  Thur   Lunch     2\n",
            "203       16.40  2.50  Female    Yes  Thur   Lunch     2\n",
            "213       13.27  2.50  Female    Yes   Sat  Dinner     2\n",
            "223       15.98  3.00  Female     No   Fri   Lunch     3\n",
            "233       10.77  1.47    Male     No   Sat  Dinner     2\n",
            "243       18.78  3.00  Female     No  Thur  Dinner     2\n"
          ]
        },
        {
          "output_type": "stream",
          "name": "stderr",
          "text": [
            "<ipython-input-31-7c2440943804>:18: FutureWarning: The default of observed=False is deprecated and will be changed to True in a future version of pandas. Pass observed=False to retain current behavior or observed=True to adopt the future default and silence this warning.\n",
            "  std_sampling=df.groupby(\"sex\").apply(lambda x:x.sample(frac=0.1,random_state=42))\n",
            "<ipython-input-31-7c2440943804>:18: DeprecationWarning: DataFrameGroupBy.apply operated on the grouping columns. This behavior is deprecated, and in a future version of pandas the grouping columns will be excluded from the operation. Either pass `include_groups=False` to exclude the groupings or explicitly select the grouping columns after groupby to silence this warning.\n",
            "  std_sampling=df.groupby(\"sex\").apply(lambda x:x.sample(frac=0.1,random_state=42))\n"
          ]
        }
      ]
    },
    {
      "cell_type": "code",
      "source": [
        "# 13) Calculate the mean, median, and mode of grouped data\n",
        "\n",
        "import pandas as pd\n",
        "import numpy as np\n",
        "import seaborn as sns\n",
        "\n",
        "data = sns.load_dataset(\"titanic\")\n",
        "df=pd.DataFrame(data)\n",
        "print(df)\n",
        "print(\"\")\n",
        "print(\"Finding mean of fare sex wise:\")\n",
        "print(\"\")\n",
        "m=df.groupby(\"sex\")[\"fare\"].mean()\n",
        "print(m)\n",
        "print(\"\")\n",
        "print(\"Finding median of fare sex wise:\")\n",
        "print(\"\")\n",
        "me=df.groupby(\"sex\")[\"fare\"].median()\n",
        "print(me)\n",
        "print(\"\")\n",
        "print(\"Finding mode of fare sex wise:\")\n",
        "print(\"\")\n",
        "mo=df.groupby(\"sex\").apply(lambda x: x.mode())\n",
        "print(mo)"
      ],
      "metadata": {
        "id": "-j1rqXy9Oaj6",
        "colab": {
          "base_uri": "https://localhost:8080/"
        },
        "outputId": "36ef5ea0-f2d1-418a-b027-1fdb4c4af6cf"
      },
      "execution_count": null,
      "outputs": [
        {
          "output_type": "stream",
          "name": "stdout",
          "text": [
            "     survived  pclass     sex   age  sibsp  parch     fare embarked   class  \\\n",
            "0           0       3    male  22.0      1      0   7.2500        S   Third   \n",
            "1           1       1  female  38.0      1      0  71.2833        C   First   \n",
            "2           1       3  female  26.0      0      0   7.9250        S   Third   \n",
            "3           1       1  female  35.0      1      0  53.1000        S   First   \n",
            "4           0       3    male  35.0      0      0   8.0500        S   Third   \n",
            "..        ...     ...     ...   ...    ...    ...      ...      ...     ...   \n",
            "886         0       2    male  27.0      0      0  13.0000        S  Second   \n",
            "887         1       1  female  19.0      0      0  30.0000        S   First   \n",
            "888         0       3  female   NaN      1      2  23.4500        S   Third   \n",
            "889         1       1    male  26.0      0      0  30.0000        C   First   \n",
            "890         0       3    male  32.0      0      0   7.7500        Q   Third   \n",
            "\n",
            "       who  adult_male deck  embark_town alive  alone  \n",
            "0      man        True  NaN  Southampton    no  False  \n",
            "1    woman       False    C    Cherbourg   yes  False  \n",
            "2    woman       False  NaN  Southampton   yes   True  \n",
            "3    woman       False    C  Southampton   yes  False  \n",
            "4      man        True  NaN  Southampton    no   True  \n",
            "..     ...         ...  ...          ...   ...    ...  \n",
            "886    man        True  NaN  Southampton    no   True  \n",
            "887  woman       False    B  Southampton   yes   True  \n",
            "888  woman       False  NaN  Southampton    no  False  \n",
            "889    man        True    C    Cherbourg   yes   True  \n",
            "890    man        True  NaN   Queenstown    no   True  \n",
            "\n",
            "[891 rows x 15 columns]\n",
            "\n",
            "Finding mean of fare sex wise:\n",
            "\n",
            "sex\n",
            "female    44.479818\n",
            "male      25.523893\n",
            "Name: fare, dtype: float64\n",
            "\n",
            "Finding median of fare sex wise:\n",
            "\n",
            "sex\n",
            "female    23.0\n",
            "male      10.5\n",
            "Name: fare, dtype: float64\n",
            "\n",
            "Finding mode of fare sex wise:\n",
            "\n",
            "          survived  pclass     sex   age  sibsp  parch  fare embarked  class  \\\n",
            "sex                                                                            \n",
            "female 0       1.0     3.0  female  24.0    0.0    0.0  7.75        S  Third   \n",
            "       1       NaN     NaN     NaN   NaN    NaN    NaN   NaN      NaN    NaN   \n",
            "male   0       0.0     3.0    male  19.0    0.0    0.0  8.05        S  Third   \n",
            "       1       NaN     NaN     NaN  25.0    NaN    NaN   NaN      NaN    NaN   \n",
            "       2       NaN     NaN     NaN  28.0    NaN    NaN   NaN      NaN    NaN   \n",
            "\n",
            "            who adult_male deck  embark_town alive  alone  \n",
            "sex                                                        \n",
            "female 0  woman      False    B  Southampton   yes  False  \n",
            "       1    NaN        NaN    C          NaN   NaN    NaN  \n",
            "male   0    man       True    C  Southampton    no   True  \n",
            "       1    NaN        NaN  NaN          NaN   NaN    NaN  \n",
            "       2    NaN        NaN  NaN          NaN   NaN    NaN  \n"
          ]
        },
        {
          "output_type": "stream",
          "name": "stderr",
          "text": [
            "<ipython-input-29-50169fbb27a4>:23: DeprecationWarning: DataFrameGroupBy.apply operated on the grouping columns. This behavior is deprecated, and in a future version of pandas the grouping columns will be excluded from the operation. Either pass `include_groups=False` to exclude the groupings or explicitly select the grouping columns after groupby to silence this warning.\n",
            "  mo=df.groupby(\"sex\").apply(lambda x: x.mode())\n"
          ]
        }
      ]
    },
    {
      "cell_type": "code",
      "source": [
        "# 14) Simulate data using Python and calculate its central tendency and dispersion\n",
        "\n",
        "import numpy as np\n",
        "import pandas as pd\n",
        "import seaborn as sns\n",
        "\n",
        "data=sns.load_dataset(\"titanic\")\n",
        "df=pd.DataFrame(data)\n",
        "print(df)\n",
        "print(\"\")\n",
        "print(\"Mean\")\n",
        "m=round(df[\"fare\"].mean(),4)\n",
        "print(m)\n",
        "print(\"\")\n",
        "print(\"Median\")\n",
        "me=df[\"fare\"].median()\n",
        "print(me)\n",
        "print(\"\")\n",
        "print(\"Mode\")\n",
        "mo=df[\"fare\"].mode()\n",
        "print(mo)\n",
        "print(\"\")\n",
        "print(\"Variance\")\n",
        "v=round(df[\"fare\"].var(),4)\n",
        "print(v)\n",
        "print(\"\")\n",
        "print(\"Standard deviation\")\n",
        "s=round(df[\"fare\"].std(),4)\n",
        "print(s)"
      ],
      "metadata": {
        "colab": {
          "base_uri": "https://localhost:8080/"
        },
        "id": "bxkZQb6PeS1J",
        "outputId": "097b1563-b29d-40ee-dddb-6368ee4a2e5d"
      },
      "execution_count": null,
      "outputs": [
        {
          "output_type": "stream",
          "name": "stdout",
          "text": [
            "     survived  pclass     sex   age  sibsp  parch     fare embarked   class  \\\n",
            "0           0       3    male  22.0      1      0   7.2500        S   Third   \n",
            "1           1       1  female  38.0      1      0  71.2833        C   First   \n",
            "2           1       3  female  26.0      0      0   7.9250        S   Third   \n",
            "3           1       1  female  35.0      1      0  53.1000        S   First   \n",
            "4           0       3    male  35.0      0      0   8.0500        S   Third   \n",
            "..        ...     ...     ...   ...    ...    ...      ...      ...     ...   \n",
            "886         0       2    male  27.0      0      0  13.0000        S  Second   \n",
            "887         1       1  female  19.0      0      0  30.0000        S   First   \n",
            "888         0       3  female   NaN      1      2  23.4500        S   Third   \n",
            "889         1       1    male  26.0      0      0  30.0000        C   First   \n",
            "890         0       3    male  32.0      0      0   7.7500        Q   Third   \n",
            "\n",
            "       who  adult_male deck  embark_town alive  alone  \n",
            "0      man        True  NaN  Southampton    no  False  \n",
            "1    woman       False    C    Cherbourg   yes  False  \n",
            "2    woman       False  NaN  Southampton   yes   True  \n",
            "3    woman       False    C  Southampton   yes  False  \n",
            "4      man        True  NaN  Southampton    no   True  \n",
            "..     ...         ...  ...          ...   ...    ...  \n",
            "886    man        True  NaN  Southampton    no   True  \n",
            "887  woman       False    B  Southampton   yes   True  \n",
            "888  woman       False  NaN  Southampton    no  False  \n",
            "889    man        True    C    Cherbourg   yes   True  \n",
            "890    man        True  NaN   Queenstown    no   True  \n",
            "\n",
            "[891 rows x 15 columns]\n",
            "\n",
            "Mean\n",
            "32.2042\n",
            "\n",
            "Median\n",
            "14.4542\n",
            "\n",
            "Mode\n",
            "0    8.05\n",
            "Name: fare, dtype: float64\n",
            "\n",
            "Variance\n",
            "2469.4368\n",
            "\n",
            "Standard deviation\n",
            "49.6934\n"
          ]
        }
      ]
    },
    {
      "cell_type": "code",
      "source": [
        "# 15)  Use NumPy or pandas to summarize a dataset’s descriptive statistics\n",
        "\n",
        "import numpy as np\n",
        "import pandas as pd\n",
        "import seaborn as sns\n",
        "\n",
        "data=sns.load_dataset(\"tips\")\n",
        "df=pd.DataFrame(data)\n",
        "print(df)\n",
        "print(\"\")\n",
        "print(\"Five point summary data\")\n",
        "print(\"\")\n",
        "df.describe()"
      ],
      "metadata": {
        "colab": {
          "base_uri": "https://localhost:8080/",
          "height": 614
        },
        "id": "55B-3KIkZEom",
        "outputId": "9925459c-f727-4dac-ced4-a694d14e46dc"
      },
      "execution_count": 6,
      "outputs": [
        {
          "output_type": "stream",
          "name": "stdout",
          "text": [
            "     total_bill   tip     sex smoker   day    time  size\n",
            "0         16.99  1.01  Female     No   Sun  Dinner     2\n",
            "1         10.34  1.66    Male     No   Sun  Dinner     3\n",
            "2         21.01  3.50    Male     No   Sun  Dinner     3\n",
            "3         23.68  3.31    Male     No   Sun  Dinner     2\n",
            "4         24.59  3.61  Female     No   Sun  Dinner     4\n",
            "..          ...   ...     ...    ...   ...     ...   ...\n",
            "239       29.03  5.92    Male     No   Sat  Dinner     3\n",
            "240       27.18  2.00  Female    Yes   Sat  Dinner     2\n",
            "241       22.67  2.00    Male    Yes   Sat  Dinner     2\n",
            "242       17.82  1.75    Male     No   Sat  Dinner     2\n",
            "243       18.78  3.00  Female     No  Thur  Dinner     2\n",
            "\n",
            "[244 rows x 7 columns]\n",
            "\n",
            "Five point summary data\n",
            "\n"
          ]
        },
        {
          "output_type": "execute_result",
          "data": {
            "text/plain": [
              "       total_bill         tip        size\n",
              "count  244.000000  244.000000  244.000000\n",
              "mean    19.785943    2.998279    2.569672\n",
              "std      8.902412    1.383638    0.951100\n",
              "min      3.070000    1.000000    1.000000\n",
              "25%     13.347500    2.000000    2.000000\n",
              "50%     17.795000    2.900000    2.000000\n",
              "75%     24.127500    3.562500    3.000000\n",
              "max     50.810000   10.000000    6.000000"
            ],
            "text/html": [
              "\n",
              "  <div id=\"df-65584d83-d6c1-409f-9613-3a6f7df2afab\" class=\"colab-df-container\">\n",
              "    <div>\n",
              "<style scoped>\n",
              "    .dataframe tbody tr th:only-of-type {\n",
              "        vertical-align: middle;\n",
              "    }\n",
              "\n",
              "    .dataframe tbody tr th {\n",
              "        vertical-align: top;\n",
              "    }\n",
              "\n",
              "    .dataframe thead th {\n",
              "        text-align: right;\n",
              "    }\n",
              "</style>\n",
              "<table border=\"1\" class=\"dataframe\">\n",
              "  <thead>\n",
              "    <tr style=\"text-align: right;\">\n",
              "      <th></th>\n",
              "      <th>total_bill</th>\n",
              "      <th>tip</th>\n",
              "      <th>size</th>\n",
              "    </tr>\n",
              "  </thead>\n",
              "  <tbody>\n",
              "    <tr>\n",
              "      <th>count</th>\n",
              "      <td>244.000000</td>\n",
              "      <td>244.000000</td>\n",
              "      <td>244.000000</td>\n",
              "    </tr>\n",
              "    <tr>\n",
              "      <th>mean</th>\n",
              "      <td>19.785943</td>\n",
              "      <td>2.998279</td>\n",
              "      <td>2.569672</td>\n",
              "    </tr>\n",
              "    <tr>\n",
              "      <th>std</th>\n",
              "      <td>8.902412</td>\n",
              "      <td>1.383638</td>\n",
              "      <td>0.951100</td>\n",
              "    </tr>\n",
              "    <tr>\n",
              "      <th>min</th>\n",
              "      <td>3.070000</td>\n",
              "      <td>1.000000</td>\n",
              "      <td>1.000000</td>\n",
              "    </tr>\n",
              "    <tr>\n",
              "      <th>25%</th>\n",
              "      <td>13.347500</td>\n",
              "      <td>2.000000</td>\n",
              "      <td>2.000000</td>\n",
              "    </tr>\n",
              "    <tr>\n",
              "      <th>50%</th>\n",
              "      <td>17.795000</td>\n",
              "      <td>2.900000</td>\n",
              "      <td>2.000000</td>\n",
              "    </tr>\n",
              "    <tr>\n",
              "      <th>75%</th>\n",
              "      <td>24.127500</td>\n",
              "      <td>3.562500</td>\n",
              "      <td>3.000000</td>\n",
              "    </tr>\n",
              "    <tr>\n",
              "      <th>max</th>\n",
              "      <td>50.810000</td>\n",
              "      <td>10.000000</td>\n",
              "      <td>6.000000</td>\n",
              "    </tr>\n",
              "  </tbody>\n",
              "</table>\n",
              "</div>\n",
              "    <div class=\"colab-df-buttons\">\n",
              "\n",
              "  <div class=\"colab-df-container\">\n",
              "    <button class=\"colab-df-convert\" onclick=\"convertToInteractive('df-65584d83-d6c1-409f-9613-3a6f7df2afab')\"\n",
              "            title=\"Convert this dataframe to an interactive table.\"\n",
              "            style=\"display:none;\">\n",
              "\n",
              "  <svg xmlns=\"http://www.w3.org/2000/svg\" height=\"24px\" viewBox=\"0 -960 960 960\">\n",
              "    <path d=\"M120-120v-720h720v720H120Zm60-500h600v-160H180v160Zm220 220h160v-160H400v160Zm0 220h160v-160H400v160ZM180-400h160v-160H180v160Zm440 0h160v-160H620v160ZM180-180h160v-160H180v160Zm440 0h160v-160H620v160Z\"/>\n",
              "  </svg>\n",
              "    </button>\n",
              "\n",
              "  <style>\n",
              "    .colab-df-container {\n",
              "      display:flex;\n",
              "      gap: 12px;\n",
              "    }\n",
              "\n",
              "    .colab-df-convert {\n",
              "      background-color: #E8F0FE;\n",
              "      border: none;\n",
              "      border-radius: 50%;\n",
              "      cursor: pointer;\n",
              "      display: none;\n",
              "      fill: #1967D2;\n",
              "      height: 32px;\n",
              "      padding: 0 0 0 0;\n",
              "      width: 32px;\n",
              "    }\n",
              "\n",
              "    .colab-df-convert:hover {\n",
              "      background-color: #E2EBFA;\n",
              "      box-shadow: 0px 1px 2px rgba(60, 64, 67, 0.3), 0px 1px 3px 1px rgba(60, 64, 67, 0.15);\n",
              "      fill: #174EA6;\n",
              "    }\n",
              "\n",
              "    .colab-df-buttons div {\n",
              "      margin-bottom: 4px;\n",
              "    }\n",
              "\n",
              "    [theme=dark] .colab-df-convert {\n",
              "      background-color: #3B4455;\n",
              "      fill: #D2E3FC;\n",
              "    }\n",
              "\n",
              "    [theme=dark] .colab-df-convert:hover {\n",
              "      background-color: #434B5C;\n",
              "      box-shadow: 0px 1px 3px 1px rgba(0, 0, 0, 0.15);\n",
              "      filter: drop-shadow(0px 1px 2px rgba(0, 0, 0, 0.3));\n",
              "      fill: #FFFFFF;\n",
              "    }\n",
              "  </style>\n",
              "\n",
              "    <script>\n",
              "      const buttonEl =\n",
              "        document.querySelector('#df-65584d83-d6c1-409f-9613-3a6f7df2afab button.colab-df-convert');\n",
              "      buttonEl.style.display =\n",
              "        google.colab.kernel.accessAllowed ? 'block' : 'none';\n",
              "\n",
              "      async function convertToInteractive(key) {\n",
              "        const element = document.querySelector('#df-65584d83-d6c1-409f-9613-3a6f7df2afab');\n",
              "        const dataTable =\n",
              "          await google.colab.kernel.invokeFunction('convertToInteractive',\n",
              "                                                    [key], {});\n",
              "        if (!dataTable) return;\n",
              "\n",
              "        const docLinkHtml = 'Like what you see? Visit the ' +\n",
              "          '<a target=\"_blank\" href=https://colab.research.google.com/notebooks/data_table.ipynb>data table notebook</a>'\n",
              "          + ' to learn more about interactive tables.';\n",
              "        element.innerHTML = '';\n",
              "        dataTable['output_type'] = 'display_data';\n",
              "        await google.colab.output.renderOutput(dataTable, element);\n",
              "        const docLink = document.createElement('div');\n",
              "        docLink.innerHTML = docLinkHtml;\n",
              "        element.appendChild(docLink);\n",
              "      }\n",
              "    </script>\n",
              "  </div>\n",
              "\n",
              "\n",
              "    <div id=\"df-2280f31c-d02e-43ec-bfb7-8590e4141930\">\n",
              "      <button class=\"colab-df-quickchart\" onclick=\"quickchart('df-2280f31c-d02e-43ec-bfb7-8590e4141930')\"\n",
              "                title=\"Suggest charts\"\n",
              "                style=\"display:none;\">\n",
              "\n",
              "<svg xmlns=\"http://www.w3.org/2000/svg\" height=\"24px\"viewBox=\"0 0 24 24\"\n",
              "     width=\"24px\">\n",
              "    <g>\n",
              "        <path d=\"M19 3H5c-1.1 0-2 .9-2 2v14c0 1.1.9 2 2 2h14c1.1 0 2-.9 2-2V5c0-1.1-.9-2-2-2zM9 17H7v-7h2v7zm4 0h-2V7h2v10zm4 0h-2v-4h2v4z\"/>\n",
              "    </g>\n",
              "</svg>\n",
              "      </button>\n",
              "\n",
              "<style>\n",
              "  .colab-df-quickchart {\n",
              "      --bg-color: #E8F0FE;\n",
              "      --fill-color: #1967D2;\n",
              "      --hover-bg-color: #E2EBFA;\n",
              "      --hover-fill-color: #174EA6;\n",
              "      --disabled-fill-color: #AAA;\n",
              "      --disabled-bg-color: #DDD;\n",
              "  }\n",
              "\n",
              "  [theme=dark] .colab-df-quickchart {\n",
              "      --bg-color: #3B4455;\n",
              "      --fill-color: #D2E3FC;\n",
              "      --hover-bg-color: #434B5C;\n",
              "      --hover-fill-color: #FFFFFF;\n",
              "      --disabled-bg-color: #3B4455;\n",
              "      --disabled-fill-color: #666;\n",
              "  }\n",
              "\n",
              "  .colab-df-quickchart {\n",
              "    background-color: var(--bg-color);\n",
              "    border: none;\n",
              "    border-radius: 50%;\n",
              "    cursor: pointer;\n",
              "    display: none;\n",
              "    fill: var(--fill-color);\n",
              "    height: 32px;\n",
              "    padding: 0;\n",
              "    width: 32px;\n",
              "  }\n",
              "\n",
              "  .colab-df-quickchart:hover {\n",
              "    background-color: var(--hover-bg-color);\n",
              "    box-shadow: 0 1px 2px rgba(60, 64, 67, 0.3), 0 1px 3px 1px rgba(60, 64, 67, 0.15);\n",
              "    fill: var(--button-hover-fill-color);\n",
              "  }\n",
              "\n",
              "  .colab-df-quickchart-complete:disabled,\n",
              "  .colab-df-quickchart-complete:disabled:hover {\n",
              "    background-color: var(--disabled-bg-color);\n",
              "    fill: var(--disabled-fill-color);\n",
              "    box-shadow: none;\n",
              "  }\n",
              "\n",
              "  .colab-df-spinner {\n",
              "    border: 2px solid var(--fill-color);\n",
              "    border-color: transparent;\n",
              "    border-bottom-color: var(--fill-color);\n",
              "    animation:\n",
              "      spin 1s steps(1) infinite;\n",
              "  }\n",
              "\n",
              "  @keyframes spin {\n",
              "    0% {\n",
              "      border-color: transparent;\n",
              "      border-bottom-color: var(--fill-color);\n",
              "      border-left-color: var(--fill-color);\n",
              "    }\n",
              "    20% {\n",
              "      border-color: transparent;\n",
              "      border-left-color: var(--fill-color);\n",
              "      border-top-color: var(--fill-color);\n",
              "    }\n",
              "    30% {\n",
              "      border-color: transparent;\n",
              "      border-left-color: var(--fill-color);\n",
              "      border-top-color: var(--fill-color);\n",
              "      border-right-color: var(--fill-color);\n",
              "    }\n",
              "    40% {\n",
              "      border-color: transparent;\n",
              "      border-right-color: var(--fill-color);\n",
              "      border-top-color: var(--fill-color);\n",
              "    }\n",
              "    60% {\n",
              "      border-color: transparent;\n",
              "      border-right-color: var(--fill-color);\n",
              "    }\n",
              "    80% {\n",
              "      border-color: transparent;\n",
              "      border-right-color: var(--fill-color);\n",
              "      border-bottom-color: var(--fill-color);\n",
              "    }\n",
              "    90% {\n",
              "      border-color: transparent;\n",
              "      border-bottom-color: var(--fill-color);\n",
              "    }\n",
              "  }\n",
              "</style>\n",
              "\n",
              "      <script>\n",
              "        async function quickchart(key) {\n",
              "          const quickchartButtonEl =\n",
              "            document.querySelector('#' + key + ' button');\n",
              "          quickchartButtonEl.disabled = true;  // To prevent multiple clicks.\n",
              "          quickchartButtonEl.classList.add('colab-df-spinner');\n",
              "          try {\n",
              "            const charts = await google.colab.kernel.invokeFunction(\n",
              "                'suggestCharts', [key], {});\n",
              "          } catch (error) {\n",
              "            console.error('Error during call to suggestCharts:', error);\n",
              "          }\n",
              "          quickchartButtonEl.classList.remove('colab-df-spinner');\n",
              "          quickchartButtonEl.classList.add('colab-df-quickchart-complete');\n",
              "        }\n",
              "        (() => {\n",
              "          let quickchartButtonEl =\n",
              "            document.querySelector('#df-2280f31c-d02e-43ec-bfb7-8590e4141930 button');\n",
              "          quickchartButtonEl.style.display =\n",
              "            google.colab.kernel.accessAllowed ? 'block' : 'none';\n",
              "        })();\n",
              "      </script>\n",
              "    </div>\n",
              "\n",
              "    </div>\n",
              "  </div>\n"
            ],
            "application/vnd.google.colaboratory.intrinsic+json": {
              "type": "dataframe",
              "summary": "{\n  \"name\": \"df\",\n  \"rows\": 8,\n  \"fields\": [\n    {\n      \"column\": \"total_bill\",\n      \"properties\": {\n        \"dtype\": \"number\",\n        \"std\": 80.57800601480773,\n        \"min\": 3.07,\n        \"max\": 244.0,\n        \"num_unique_values\": 8,\n        \"samples\": [\n          19.78594262295082,\n          17.795,\n          244.0\n        ],\n        \"semantic_type\": \"\",\n        \"description\": \"\"\n      }\n    },\n    {\n      \"column\": \"tip\",\n      \"properties\": {\n        \"dtype\": \"number\",\n        \"std\": 85.10953159599222,\n        \"min\": 1.0,\n        \"max\": 244.0,\n        \"num_unique_values\": 8,\n        \"samples\": [\n          2.99827868852459,\n          2.9,\n          244.0\n        ],\n        \"semantic_type\": \"\",\n        \"description\": \"\"\n      }\n    },\n    {\n      \"column\": \"size\",\n      \"properties\": {\n        \"dtype\": \"number\",\n        \"std\": 85.39686221774684,\n        \"min\": 0.9510998047322332,\n        \"max\": 244.0,\n        \"num_unique_values\": 7,\n        \"samples\": [\n          244.0,\n          2.569672131147541,\n          3.0\n        ],\n        \"semantic_type\": \"\",\n        \"description\": \"\"\n      }\n    }\n  ]\n}"
            }
          },
          "metadata": {},
          "execution_count": 6
        }
      ]
    },
    {
      "cell_type": "code",
      "source": [
        "# 16) Plot a boxplot to understand the spread and identify outliers\n",
        "\n",
        "import numpy as np\n",
        "import pandas as pd\n",
        "import matplotlib.pyplot as plt\n",
        "import seaborn as sns\n",
        "\n",
        "data = np.random.normal(50, 10, 100)\n",
        "data = np.append(data, [80, 5, 90])\n",
        "\n",
        "plt.figure(figsize=(6,4))\n",
        "sns.boxplot(data)\n",
        "plt.title(\"Boxplot to Identify Spread & Outliers\")\n",
        "plt.xlabel(\"Data\")\n",
        "plt.show()\n"
      ],
      "metadata": {
        "colab": {
          "base_uri": "https://localhost:8080/",
          "height": 396
        },
        "id": "z1Xux9hgaILx",
        "outputId": "c528667c-f25d-431e-e186-a1ec9f4da8dc"
      },
      "execution_count": 13,
      "outputs": [
        {
          "output_type": "display_data",
          "data": {
            "text/plain": [
              "<Figure size 600x400 with 1 Axes>"
            ],
            "image/png": "[encoded data removed]"
          },
          "metadata": {}
        }
      ]
    },
    {
      "cell_type": "code",
      "source": [
        "# 17) Calculate the interquartile range (IQR) of a dataset\n",
        "\n",
        "import numpy as np\n",
        "\n",
        "data=np.random.rand(1,11)\n",
        "print(data)\n",
        "\n",
        "q1=np.percentile(data,25)\n",
        "q3=np.percentile(data,75)\n",
        "\n",
        "IQR=q3-q1\n",
        "print(\"\")\n",
        "print(\"IQR is\")\n",
        "print(round(IQR,4))"
      ],
      "metadata": {
        "colab": {
          "base_uri": "https://localhost:8080/"
        },
        "id": "XKBFl-USchWr",
        "outputId": "c2133d7f-f43f-4a16-8d89-8c16dd5c147b"
      },
      "execution_count": 24,
      "outputs": [
        {
          "output_type": "stream",
          "name": "stdout",
          "text": [
            "[[0.21045173 0.81775121 0.6384113  0.70872396 0.84869778 0.16097084\n",
            "  0.4972696  0.06582311 0.37114443 0.91099587 0.62138069]]\n",
            "\n",
            "IQR is\n",
            "0.4724\n"
          ]
        }
      ]
    },
    {
      "cell_type": "code",
      "source": [
        "# 18) Implement Z-score normalization and explain its significance\n",
        "\n",
        "\"\"\"\n",
        "Z-score is used for standardizing the normal distribution into standard normal distribution\n",
        "we do so because, the computations will be made faster and we can also compare the\n",
        "distributions\n",
        "\n",
        "\"\"\"\n",
        "\n",
        "import numpy as np\n",
        "\n",
        "# Sample data\n",
        "data = np.array([50, 60, 70, 80, 90])\n",
        "\n",
        "# Compute mean and standard deviation\n",
        "mean = np.mean(data)\n",
        "std = np.std(data)\n",
        "\n",
        "# Apply Z-score normalization\n",
        "z_scores = (data - mean) / std\n",
        "\n",
        "print(\"Original Data:\", data)\n",
        "print(\"Z-score Normalized Data:\", z_scores)\n"
      ],
      "metadata": {
        "colab": {
          "base_uri": "https://localhost:8080/"
        },
        "id": "evwoO2vaeSqZ",
        "outputId": "fb9e78ed-2c77-4d60-933c-5258bddf408b"
      },
      "execution_count": 29,
      "outputs": [
        {
          "output_type": "stream",
          "name": "stdout",
          "text": [
            "Original Data: [50 60 70 80 90]\n",
            "Z-score Normalized Data: [-1.41421356 -0.70710678  0.          0.70710678  1.41421356]\n"
          ]
        }
      ]
    },
    {
      "cell_type": "code",
      "source": [
        "# 19) Compare two datasets using their standard deviations\n",
        "\n",
        "import numpy as np\n",
        "\n",
        "d1=np.random.rand(1,5)\n",
        "d2=np.random.rand(200,300)\n",
        "\n",
        "std_d1=np.std(d1)\n",
        "std_d2=np.std(d2)\n",
        "\n",
        "print(f\"std_d1:{std_d1:.2f}\")\n",
        "print(f\"std_d2:{std_d2:.2f}\")\n"
      ],
      "metadata": {
        "colab": {
          "base_uri": "https://localhost:8080/"
        },
        "id": "ANIOSmGhkbk1",
        "outputId": "b0f50ca0-5e9d-4713-e180-224eb53b9196"
      },
      "execution_count": 35,
      "outputs": [
        {
          "output_type": "stream",
          "name": "stdout",
          "text": [
            "std_d1:0.26\n",
            "std_d2:0.29\n"
          ]
        }
      ]
    },
    {
      "cell_type": "code",
      "source": [
        "# 20) Write a Python program to visualize covariance using a heatmap\n",
        "\n",
        "import numpy as np\n",
        "import pandas as pd\n",
        "import matplotlib.pyplot as plt\n",
        "import seaborn as sns\n",
        "\n",
        "\n",
        "d1=np.random.rand(1,10)\n",
        "d2=np.random.rand(1,10)\n",
        "\n",
        "cov_matrix = np.cov(d1,d2)\n",
        "cov_value = cov_matrix[0,1]\n",
        "\n",
        "print(f\"Covariance: {cov_value: .4f}\")\n",
        "\n",
        "plt.figure(figsize=(6,4))\n",
        "sns.heatmap([[cov_value]],linecolor=\"blue\")\n",
        "plt.title(\"Visualizing covariance using a heatmap\")\n",
        "plt.xlabel(\"d1 datapoints\")\n",
        "plt.ylabel(\"d2 datapoints\")\n",
        "plt.show()"
      ],
      "metadata": {
        "colab": {
          "base_uri": "https://localhost:8080/",
          "height": 428
        },
        "id": "oLjuzHsYmiRL",
        "outputId": "cfa3747a-f2a8-47b3-f95e-5588caf52690"
      },
      "execution_count": 48,
      "outputs": [
        {
          "output_type": "stream",
          "name": "stdout",
          "text": [
            "Covariance:  0.0001\n"
          ]
        },
        {
          "output_type": "display_data",
          "data": {
            "text/plain": [
              "<Figure size 600x400 with 2 Axes>"
            ],
            "image/png": "[encoded data removed]"
          },
          "metadata": {}
        }
      ]
    },
    {
      "cell_type": "code",
      "source": [
        "# 21) Use seaborn to create a correlation matrix for a dataset\n",
        "\n",
        "import numpy as np\n",
        "import pandas as pd\n",
        "import matplotlib.pyplot as plt\n",
        "import seaborn as sns\n",
        "\n",
        "# Generate a sample dataset\n",
        "np.random.seed(42)\n",
        "data = pd.DataFrame({\n",
        "    'A': np.random.rand(50),\n",
        "    'B': np.random.rand(50),\n",
        "    'C': np.random.rand(50),\n",
        "    'D': np.random.rand(50)\n",
        "})\n",
        "\n",
        "# Compute correlation matrix\n",
        "corr_matrix = data.corr()\n",
        "\n",
        "# Create a heatmap for correlation matrix\n",
        "plt.figure(figsize=(6, 4))\n",
        "sns.heatmap(corr_matrix, annot=True, cmap=\"coolwarm\", linewidths=0.5)\n",
        "\n",
        "plt.title(\"Correlation Matrix Heatmap\")\n",
        "plt.show()\n",
        "\n",
        "\n"
      ],
      "metadata": {
        "colab": {
          "base_uri": "https://localhost:8080/",
          "height": 391
        },
        "id": "u8oy19ux_lCn",
        "outputId": "cc210cf8-9d1b-41ea-987e-4a295301b2e1"
      },
      "execution_count": 50,
      "outputs": [
        {
          "output_type": "display_data",
          "data": {
            "text/plain": [
              "<Figure size 600x400 with 2 Axes>"
            ],
            "image/png": "[encoded data removed]"
          },
          "metadata": {}
        }
      ]
    },
    {
      "cell_type": "code",
      "source": [
        "# 22) Generate a dataset and implement both variance and standard deviation computations\n",
        "\n",
        "import numpy as np\n",
        "import pandas as pd\n",
        "\n",
        "d1=np.random.rand(1,3)\n",
        "\n",
        "v1=np.var(d1)\n",
        "print(f\"Variance of population: {v1:.4f}\")\n",
        "v2=np.var(d1,ddof=1)\n",
        "print(f\"Variance of sample: {v2:.4f}\")\n",
        "s1=np.std(d1)\n",
        "print(f\"Standard deviation of population: {s1:.4f}\")\n",
        "s2=np.std(d1,ddof=1)\n",
        "print(f\"Standard deviation of sample: {s2:.4f}\")\n"
      ],
      "metadata": {
        "colab": {
          "base_uri": "https://localhost:8080/"
        },
        "id": "RK5Sw8vUAqTY",
        "outputId": "4d6e2ab4-3571-4010-8f50-7d1aa32568c0"
      },
      "execution_count": 52,
      "outputs": [
        {
          "output_type": "stream",
          "name": "stdout",
          "text": [
            "Variance of population: 0.1370\n",
            "Variance of sample: 0.2055\n",
            "Standard deviation of population: 0.3701\n",
            "Standard deviation of sample: 0.4533\n"
          ]
        }
      ]
    },
    {
      "cell_type": "code",
      "source": [
        "# 23) Visualize skewness and kurtosis using Python libraries like matplotlib or seaborn\n",
        "\n",
        "import numpy as np\n",
        "import pandas as pd\n",
        "import matplotlib.pyplot as plt\n",
        "import seaborn as sns\n",
        "from scipy.stats import skew, kurtosis\n",
        "\n",
        "# Generate a skewed dataset (Exponential distribution)\n",
        "data = np.random.exponential(scale=2, size=1000)\n",
        "\n",
        "# Compute skewness and kurtosis\n",
        "skew_val = skew(data)\n",
        "kurt_val = kurtosis(data)\n",
        "\n",
        "print(f\"Skewness: {skew_val:.2f}, Kurtosis: {kurt_val:.2f}\")\n",
        "\n",
        "plt.figure(figsize=(6, 4))\n",
        "sns.histplot(data, bins=30, kde=True)\n",
        "plt.title(\"Histogram to Visualize Skewness\")\n",
        "plt.xlabel(\"Data Values\")\n",
        "plt.ylabel(\"Frequency\")\n",
        "plt.show()\n",
        "\n",
        "plt.figure(figsize=(6, 4))\n",
        "sns.boxplot(x=data)\n",
        "plt.title(\"Boxplot to Identify Kurtosis & Outliers\")\n",
        "plt.show()\n"
      ],
      "metadata": {
        "colab": {
          "base_uri": "https://localhost:8080/",
          "height": 802
        },
        "id": "Pw01RNrPBekI",
        "outputId": "82431086-54ae-4958-93c2-9f54717ad270"
      },
      "execution_count": 54,
      "outputs": [
        {
          "output_type": "stream",
          "name": "stdout",
          "text": [
            "Skewness: 2.01, Kurtosis: 5.45\n"
          ]
        },
        {
          "output_type": "display_data",
          "data": {
            "text/plain": [
              "<Figure size 600x400 with 1 Axes>"
            ],
            "image/png": "[encoded data removed]"
          },
          "metadata": {}
        },
        {
          "output_type": "display_data",
          "data": {
            "text/plain": [
              "<Figure size 600x400 with 1 Axes>"
            ],
            "image/png": "[encoded data removed]"
          },
          "metadata": {}
        }
      ]
    },
    {
      "cell_type": "code",
      "source": [
        "# 24) Implement the Pearson and Spearman correlation coefficients for a dataset\n",
        "\n",
        "import numpy as np\n",
        "import pandas as pd\n",
        "from scipy.stats import pearsonr, spearmanr\n",
        "\n",
        "# Sample dataset\n",
        "data = pd.DataFrame({\n",
        "    'X': np.random.rand(20),\n",
        "    'Y': np.random.rand(20)\n",
        "})\n",
        "\n",
        "# Compute Pearson correlation\n",
        "pearson_corr, _ = pearsonr(data['X'], data['Y'])\n",
        "\n",
        "# Compute Spearman correlation\n",
        "spearman_corr, _ = spearmanr(data['X'], data['Y'])\n",
        "\n",
        "print(f\"Pearson Correlation: {pearson_corr:.4f}\")\n",
        "print(f\"Spearman Correlation: {spearman_corr:.4f}\")\n"
      ],
      "metadata": {
        "colab": {
          "base_uri": "https://localhost:8080/"
        },
        "id": "IuhXEb1WCdsb",
        "outputId": "4e815b70-d66c-4cf2-9516-b8ff4cf3882b"
      },
      "execution_count": 59,
      "outputs": [
        {
          "output_type": "stream",
          "name": "stdout",
          "text": [
            "Pearson Correlation: -0.1242\n",
            "Spearman Correlation: -0.1203\n"
          ]
        }
      ]
    }
  ]
}